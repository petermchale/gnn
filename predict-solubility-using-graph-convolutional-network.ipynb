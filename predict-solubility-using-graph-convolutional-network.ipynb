{
 "cells": [
  {
   "cell_type": "markdown",
   "metadata": {},
   "source": [
    "## Credit \n",
    "\n",
    "https://medium.com/@tejpal.abhyuday/application-of-gnn-for-calculating-the-solubility-of-molecule-graph-level-prediction-8bac5fabf600"
   ]
  },
  {
   "cell_type": "markdown",
   "metadata": {},
   "source": [
    "## Predicting molecule solubility using graph neural networks\n",
    "\n",
    "The goal of using graph-based representations in the `torch_geometric` library is to enable the application of graph neural networks (GNNs) and other graph-based machine learning techniques for tasks such as predicting solubility or other chemical properties. GNNs can operate directly on these graph structures, taking into account the connectivity of atoms and the associated node and edge features to make predictions.\n",
    "\n",
    "[Source: ChatGPT]"
   ]
  },
  {
   "cell_type": "markdown",
   "metadata": {},
   "source": [
    "## The ESOL dataset\n",
    "\n",
    "The ESOL dataset, which stands for \"Extended Solubility\", is a dataset commonly used in the field of cheminformatics and machine learning for predicting the solubility of chemical compounds. The dataset contains information about the solubility of various organic molecules in water.\n",
    "\n",
    "1. **Graph Representation**: Each chemical compound is represented as a graph, where atoms are nodes, and chemical bonds are edges. This graph representation captures the connectivity and structure of the molecule.\n",
    "\n",
    "2. **Node Features**: The node feature vectors, in this case, typically represent the properties of individual atoms within the molecule. These features can include:\n",
    "\n",
    "   - **Atom Type**: Each atom is assigned a specific atom type based on its element (e.g., carbon, hydrogen, oxygen, etc.). This is often one-hot encoded or represented as a categorical feature.\n",
    "\n",
    "   - **Atomic Charges**: The partial charges on each atom, which describe the distribution of electric charge within the molecule.\n",
    "\n",
    "   - **Hybridization**: Information about the hybridization state of each atom (e.g., sp3, sp2, sp).\n",
    "\n",
    "   - **Atomic Mass**: The mass of each atom.\n",
    "\n",
    "   - **Formal Charge**: The formal charge on each atom.\n",
    "\n",
    "   - **Other Atom-specific Properties**: Depending on the specific implementation, additional atom-specific properties may also be included as node features.\n",
    "\n",
    "3. **Edge Features**: In addition to node features, edge features can be included in the graph representation. These features typically describe the type of chemical bond between connected atoms (e.g., single, double, or triple bonds) and may also include bond distances or bond angles.\n",
    "\n",
    "4. **Graph Structure**: The graph structure itself is represented by adjacency matrices or edge lists, which define how atoms are connected by chemical bonds.\n",
    "\n",
    "[Source: ChatGPT]"
   ]
  },
  {
   "cell_type": "code",
   "execution_count": 1,
   "metadata": {},
   "outputs": [
    {
     "data": {
      "text/plain": [
       "ESOL(1128)"
      ]
     },
     "execution_count": 1,
     "metadata": {},
     "output_type": "execute_result"
    }
   ],
   "source": [
    "from torch_geometric.datasets import MoleculeNet\n",
    " \n",
    "# https://pytorch-geometric.readthedocs.io/en/latest/generated/torch_geometric.datasets.MoleculeNet.html#torch_geometric.datasets.MoleculeNet\n",
    "DATA = MoleculeNet(root=\".\", name=\"ESOL\")\n",
    "DATA"
   ]
  },
  {
   "cell_type": "markdown",
   "metadata": {},
   "source": [
    "## Investigate the dataset\n",
    "\n"
   ]
  },
  {
   "cell_type": "code",
   "execution_count": 2,
   "metadata": {},
   "outputs": [
    {
     "name": "stdout",
     "output_type": "stream",
     "text": [
      "Dataset type:  <class 'torch_geometric.datasets.molecule_net.MoleculeNet'>\n",
      "Number of features per graph node:  9\n",
      "Number of distinct target values (solubilities):  734\n",
      "Number of graphs:  1128\n",
      "Example graph:  Data(x=[32, 9], edge_index=[2, 68], edge_attr=[68, 3], smiles='OCC3OC(OCC2OC(OC(C#N)c1ccccc1)C(O)C(O)C2O)C(O)C(O)C3O ', y=[1, 1])\n",
      "Number of nodes in example graph:  32\n",
      "Number of edges in example graph:  68\n"
     ]
    }
   ],
   "source": [
    "print(\"Dataset type: \", type(DATA))\n",
    "print(\"Number of features per graph node: \", DATA.num_features)\n",
    "print(\"Number of distinct target values (solubilities): \", DATA.num_classes)\n",
    "print(\"Number of graphs: \", len(DATA))\n",
    "print(\"Example graph: \", DATA[0])\n",
    "print(\"Number of nodes in example graph: \", DATA[0].num_nodes)\n",
    "print(\"Number of edges in example graph: \", DATA[0].num_edges)"
   ]
  },
  {
   "cell_type": "code",
   "execution_count": 3,
   "metadata": {},
   "outputs": [
    {
     "data": {
      "text/plain": [
       "tensor([[8, 0, 2, 5, 1, 0, 4, 0, 0],\n",
       "        [6, 0, 4, 5, 2, 0, 4, 0, 0],\n",
       "        [6, 0, 4, 5, 1, 0, 4, 0, 1],\n",
       "        [8, 0, 2, 5, 0, 0, 4, 0, 1],\n",
       "        [6, 0, 4, 5, 1, 0, 4, 0, 1],\n",
       "        [8, 0, 2, 5, 0, 0, 4, 0, 0],\n",
       "        [6, 0, 4, 5, 2, 0, 4, 0, 0],\n",
       "        [6, 0, 4, 5, 1, 0, 4, 0, 1],\n",
       "        [8, 0, 2, 5, 0, 0, 4, 0, 1],\n",
       "        [6, 0, 4, 5, 1, 0, 4, 0, 1],\n",
       "        [8, 0, 2, 5, 0, 0, 4, 0, 0],\n",
       "        [6, 0, 4, 5, 1, 0, 4, 0, 0],\n",
       "        [6, 0, 2, 5, 0, 0, 2, 0, 0],\n",
       "        [7, 0, 1, 5, 0, 0, 2, 0, 0],\n",
       "        [6, 0, 3, 5, 0, 0, 3, 1, 1],\n",
       "        [6, 0, 3, 5, 1, 0, 3, 1, 1],\n",
       "        [6, 0, 3, 5, 1, 0, 3, 1, 1],\n",
       "        [6, 0, 3, 5, 1, 0, 3, 1, 1],\n",
       "        [6, 0, 3, 5, 1, 0, 3, 1, 1],\n",
       "        [6, 0, 3, 5, 1, 0, 3, 1, 1],\n",
       "        [6, 0, 4, 5, 1, 0, 4, 0, 1],\n",
       "        [8, 0, 2, 5, 1, 0, 4, 0, 0],\n",
       "        [6, 0, 4, 5, 1, 0, 4, 0, 1],\n",
       "        [8, 0, 2, 5, 1, 0, 4, 0, 0],\n",
       "        [6, 0, 4, 5, 1, 0, 4, 0, 1],\n",
       "        [8, 0, 2, 5, 1, 0, 4, 0, 0],\n",
       "        [6, 0, 4, 5, 1, 0, 4, 0, 1],\n",
       "        [8, 0, 2, 5, 1, 0, 4, 0, 0],\n",
       "        [6, 0, 4, 5, 1, 0, 4, 0, 1],\n",
       "        [8, 0, 2, 5, 1, 0, 4, 0, 0],\n",
       "        [6, 0, 4, 5, 1, 0, 4, 0, 1],\n",
       "        [8, 0, 2, 5, 1, 0, 4, 0, 0]])"
      ]
     },
     "execution_count": 3,
     "metadata": {},
     "output_type": "execute_result"
    }
   ],
   "source": [
    "# nodes of example graph \n",
    "DATA[0].x # shape: [num_nodes, num_node_features]"
   ]
  },
  {
   "cell_type": "code",
   "execution_count": 4,
   "metadata": {},
   "outputs": [
    {
     "data": {
      "text/plain": [
       "tensor([[-0.7700]])"
      ]
     },
     "execution_count": 4,
     "metadata": {},
     "output_type": "execute_result"
    }
   ],
   "source": [
    "# the target value of the example graph is its solubility\n",
    "DATA[0].y"
   ]
  },
  {
   "cell_type": "code",
   "execution_count": 5,
   "metadata": {},
   "outputs": [
    {
     "data": {
      "text/plain": [
       "tensor([[ 0,  1],\n",
       "        [ 1,  0],\n",
       "        [ 1,  2],\n",
       "        [ 2,  1],\n",
       "        [ 2,  3],\n",
       "        [ 2, 30],\n",
       "        [ 3,  2],\n",
       "        [ 3,  4],\n",
       "        [ 4,  3],\n",
       "        [ 4,  5],\n",
       "        [ 4, 26],\n",
       "        [ 5,  4],\n",
       "        [ 5,  6],\n",
       "        [ 6,  5],\n",
       "        [ 6,  7],\n",
       "        [ 7,  6],\n",
       "        [ 7,  8],\n",
       "        [ 7, 24],\n",
       "        [ 8,  7],\n",
       "        [ 8,  9],\n",
       "        [ 9,  8],\n",
       "        [ 9, 10],\n",
       "        [ 9, 20],\n",
       "        [10,  9],\n",
       "        [10, 11],\n",
       "        [11, 10],\n",
       "        [11, 12],\n",
       "        [11, 14],\n",
       "        [12, 11],\n",
       "        [12, 13],\n",
       "        [13, 12],\n",
       "        [14, 11],\n",
       "        [14, 15],\n",
       "        [14, 19],\n",
       "        [15, 14],\n",
       "        [15, 16],\n",
       "        [16, 15],\n",
       "        [16, 17],\n",
       "        [17, 16],\n",
       "        [17, 18],\n",
       "        [18, 17],\n",
       "        [18, 19],\n",
       "        [19, 14],\n",
       "        [19, 18],\n",
       "        [20,  9],\n",
       "        [20, 21],\n",
       "        [20, 22],\n",
       "        [21, 20],\n",
       "        [22, 20],\n",
       "        [22, 23],\n",
       "        [22, 24],\n",
       "        [23, 22],\n",
       "        [24,  7],\n",
       "        [24, 22],\n",
       "        [24, 25],\n",
       "        [25, 24],\n",
       "        [26,  4],\n",
       "        [26, 27],\n",
       "        [26, 28],\n",
       "        [27, 26],\n",
       "        [28, 26],\n",
       "        [28, 29],\n",
       "        [28, 30],\n",
       "        [29, 28],\n",
       "        [30,  2],\n",
       "        [30, 28],\n",
       "        [30, 31],\n",
       "        [31, 30]])"
      ]
     },
     "execution_count": 5,
     "metadata": {},
     "output_type": "execute_result"
    }
   ],
   "source": [
    "# the edges of the example graph are in sparse Coordinate Format (COO)\n",
    "# (also called adjacency list: https://distill.pub/2021/gnn-intro/\n",
    "DATA[0].edge_index.t() # shape [num_edges, 2]"
   ]
  },
  {
   "cell_type": "code",
   "execution_count": 6,
   "metadata": {},
   "outputs": [
    {
     "data": {
      "text/plain": [
       "tensor([[ 1,  0,  0],\n",
       "        [ 1,  0,  0],\n",
       "        [ 1,  0,  0],\n",
       "        [ 1,  0,  0],\n",
       "        [ 1,  0,  0],\n",
       "        [ 1,  0,  0],\n",
       "        [ 1,  0,  0],\n",
       "        [ 1,  0,  0],\n",
       "        [ 1,  0,  0],\n",
       "        [ 1,  0,  0],\n",
       "        [ 1,  0,  0],\n",
       "        [ 1,  0,  0],\n",
       "        [ 1,  0,  0],\n",
       "        [ 1,  0,  0],\n",
       "        [ 1,  0,  0],\n",
       "        [ 1,  0,  0],\n",
       "        [ 1,  0,  0],\n",
       "        [ 1,  0,  0],\n",
       "        [ 1,  0,  0],\n",
       "        [ 1,  0,  0],\n",
       "        [ 1,  0,  0],\n",
       "        [ 1,  0,  0],\n",
       "        [ 1,  0,  0],\n",
       "        [ 1,  0,  0],\n",
       "        [ 1,  0,  0],\n",
       "        [ 1,  0,  0],\n",
       "        [ 1,  0,  0],\n",
       "        [ 1,  0,  0],\n",
       "        [ 1,  0,  0],\n",
       "        [ 3,  0,  0],\n",
       "        [ 3,  0,  0],\n",
       "        [ 1,  0,  0],\n",
       "        [12,  0,  1],\n",
       "        [12,  0,  1],\n",
       "        [12,  0,  1],\n",
       "        [12,  0,  1],\n",
       "        [12,  0,  1],\n",
       "        [12,  0,  1],\n",
       "        [12,  0,  1],\n",
       "        [12,  0,  1],\n",
       "        [12,  0,  1],\n",
       "        [12,  0,  1],\n",
       "        [12,  0,  1],\n",
       "        [12,  0,  1],\n",
       "        [ 1,  0,  0],\n",
       "        [ 1,  0,  0],\n",
       "        [ 1,  0,  0],\n",
       "        [ 1,  0,  0],\n",
       "        [ 1,  0,  0],\n",
       "        [ 1,  0,  0],\n",
       "        [ 1,  0,  0],\n",
       "        [ 1,  0,  0],\n",
       "        [ 1,  0,  0],\n",
       "        [ 1,  0,  0],\n",
       "        [ 1,  0,  0],\n",
       "        [ 1,  0,  0],\n",
       "        [ 1,  0,  0],\n",
       "        [ 1,  0,  0],\n",
       "        [ 1,  0,  0],\n",
       "        [ 1,  0,  0],\n",
       "        [ 1,  0,  0],\n",
       "        [ 1,  0,  0],\n",
       "        [ 1,  0,  0],\n",
       "        [ 1,  0,  0],\n",
       "        [ 1,  0,  0],\n",
       "        [ 1,  0,  0],\n",
       "        [ 1,  0,  0],\n",
       "        [ 1,  0,  0]])"
      ]
     },
     "execution_count": 6,
     "metadata": {},
     "output_type": "execute_result"
    }
   ],
   "source": [
    "# edge attributes of example graph\n",
    "DATA[0].edge_attr # shape [num_edges, num_edge_features]"
   ]
  },
  {
   "cell_type": "markdown",
   "metadata": {},
   "source": [
    "## Visualize one of the molecules in the dataset "
   ]
  },
  {
   "cell_type": "code",
   "execution_count": 7,
   "metadata": {},
   "outputs": [
    {
     "data": {
      "image/png": "[encoded data removed]",
      "text/plain": [
       "<rdkit.Chem.rdchem.Mol at 0x188737290>"
      ]
     },
     "execution_count": 7,
     "metadata": {},
     "output_type": "execute_result"
    }
   ],
   "source": [
    "from rdkit import Chem\n",
    "from rdkit.Chem.Draw import IPythonConsole\n",
    "\n",
    "Chem.MolFromSmiles(DATA[0][\"smiles\"])"
   ]
  },
  {
   "cell_type": "markdown",
   "metadata": {},
   "source": [
    "## Implement a Graph Convolutional Neural Network"
   ]
  },
  {
   "cell_type": "code",
   "execution_count": 8,
   "metadata": {},
   "outputs": [
    {
     "name": "stdout",
     "output_type": "stream",
     "text": [
      "GCN(\n",
      "  (initial_conv): GCNConv(9, 64)\n",
      "  (conv1): GCNConv(64, 64)\n",
      "  (conv2): GCNConv(64, 64)\n",
      "  (conv3): GCNConv(64, 64)\n",
      "  (out): Linear(in_features=128, out_features=1, bias=True)\n",
      ")\n",
      "Number of parameters:  13249\n"
     ]
    }
   ],
   "source": [
    "import torch\n",
    "from torch.nn import Linear\n",
    "import torch.nn.functional as F \n",
    "from torch_geometric.nn import GCNConv, TopKPooling, global_mean_pool\n",
    "from torch_geometric.nn import global_mean_pool as gap, global_max_pool as gmp\n",
    "\n",
    "EMBEDDING_DIM = 64\n",
    "\n",
    "class GCN(torch.nn.Module):\n",
    "    def __init__(self):\n",
    "        super(GCN, self).__init__()\n",
    "        torch.manual_seed(42)\n",
    "\n",
    "        self.initial_conv = GCNConv( # The graph convolutional operator from the “Semi-supervised Classification with Graph Convolutional Networks” paper\n",
    "          in_channels=DATA.num_features, # number of features per node of graph before transformation\n",
    "          out_channels=EMBEDDING_DIM # number of features per node of graph after transformation\n",
    "        )\n",
    "        self.conv1 = GCNConv(EMBEDDING_DIM, EMBEDDING_DIM)\n",
    "        self.conv2 = GCNConv(EMBEDDING_DIM, EMBEDDING_DIM)\n",
    "        self.conv3 = GCNConv(EMBEDDING_DIM, EMBEDDING_DIM)\n",
    "        self.out = Linear(\n",
    "          in_features=EMBEDDING_DIM*2, # we stack the different global pooling aggregations below\n",
    "          out_features=1\n",
    "        )\n",
    "\n",
    "    def forward(self, x, edge_index, batch_index):\n",
    "        # First Conv layer\n",
    "        hidden = self.initial_conv(x, edge_index)\n",
    "        hidden = F.tanh(hidden)\n",
    "\n",
    "        # Other Conv layers\n",
    "        hidden = self.conv1(hidden, edge_index)\n",
    "        hidden = F.tanh(hidden)\n",
    "        hidden = self.conv2(hidden, edge_index)\n",
    "        hidden = F.tanh(hidden)\n",
    "        hidden = self.conv3(hidden, edge_index)\n",
    "        hidden = F.tanh(hidden)\n",
    "          \n",
    "        # Global Pooling (stack different aggregations over nodes of graph)\n",
    "        hidden = torch.cat([gmp(hidden, batch_index), \n",
    "                            gap(hidden, batch_index)], dim=1)\n",
    "\n",
    "        # Apply a final (linear) classifier.\n",
    "        out = self.out(hidden)\n",
    "\n",
    "        return out, hidden\n",
    "\n",
    "MODEL = GCN()\n",
    "print(MODEL)\n",
    "print(\"Number of parameters: \", sum(p.numel() for p in MODEL.parameters()))"
   ]
  },
  {
   "cell_type": "markdown",
   "metadata": {},
   "source": [
    "## Train the Graph Convolutional Network "
   ]
  },
  {
   "cell_type": "code",
   "execution_count": 9,
   "metadata": {},
   "outputs": [],
   "source": [
    "from torch_geometric.data import DataLoader\n",
    "import warnings\n",
    "warnings.filterwarnings(\"ignore\")\n",
    "\n",
    "NUM_GRAPHS_PER_BATCH = 64\n",
    "\n",
    "# Use GPU for training (if available)\n",
    "DEVICE = torch.device(\"cuda:0\" if torch.cuda.is_available() else \"cpu\")"
   ]
  },
  {
   "cell_type": "code",
   "execution_count": 10,
   "metadata": {},
   "outputs": [
    {
     "name": "stdout",
     "output_type": "stream",
     "text": [
      "Starting training...\n",
      "Epoch 0 | Train Loss 11.665949821472168\n",
      "Epoch 100 | Train Loss 1.0266482830047607\n",
      "Epoch 200 | Train Loss 2.4161503314971924\n",
      "Epoch 300 | Train Loss 0.21653079986572266\n",
      "Epoch 400 | Train Loss 0.14055132865905762\n",
      "Epoch 500 | Train Loss 0.3436800539493561\n",
      "Epoch 600 | Train Loss 0.060888830572366714\n",
      "Epoch 700 | Train Loss 0.10678458213806152\n",
      "Epoch 800 | Train Loss 0.23447926342487335\n",
      "Epoch 900 | Train Loss 0.13027147948741913\n",
      "Epoch 1000 | Train Loss 0.09288126230239868\n",
      "Epoch 1100 | Train Loss 0.08742401748895645\n",
      "Epoch 1200 | Train Loss 0.1677463799715042\n",
      "Epoch 1300 | Train Loss 0.0401727594435215\n",
      "Epoch 1400 | Train Loss 0.1080005094408989\n",
      "Epoch 1500 | Train Loss 0.023777754977345467\n",
      "Epoch 1600 | Train Loss 0.06994298845529556\n",
      "Epoch 1700 | Train Loss 0.03386954218149185\n",
      "Epoch 1800 | Train Loss 0.05925782397389412\n",
      "Epoch 1900 | Train Loss 0.05499924719333649\n"
     ]
    }
   ],
   "source": [
    "def train(model, data):\n",
    "  model = model.to(DEVICE)\n",
    "\n",
    "  loss_fn = torch.nn.MSELoss()\n",
    "\n",
    "  optimizer = torch.optim.Adam(model.parameters(), lr=0.0007)\n",
    "\n",
    "  data_size = len(data)\n",
    "  train_loader = DataLoader(\n",
    "    data[:int(data_size * 0.8)], \n",
    "    batch_size=NUM_GRAPHS_PER_BATCH, \n",
    "    shuffle=True\n",
    "  )\n",
    "\n",
    "  for batch in train_loader:\n",
    "    # Use GPU\n",
    "    batch.to(DEVICE)  \n",
    "    # Reset gradients\n",
    "    optimizer.zero_grad() \n",
    "    # Passing the node features and the edge info\n",
    "    pred, embedding = model(batch.x.float(), batch.edge_index, batch.batch) \n",
    "    # Calculating the loss and gradients\n",
    "    loss = loss_fn(pred, batch.y)     \n",
    "    loss.backward()  \n",
    "    # Update using the gradients\n",
    "    optimizer.step()   \n",
    "  return loss, embedding\n",
    "\n",
    "def train_wrapper():\n",
    "  print(\"Starting training...\")\n",
    "  losses = []\n",
    "  for epoch in range(2000): \n",
    "      loss, h = train(MODEL, DATA)\n",
    "      losses.append(loss)\n",
    "      if epoch % 100 == 0: \n",
    "        print(f\"Epoch {epoch} | Train Loss {loss}\")\n",
    "  return losses \n",
    "\n",
    "LOSSES = train_wrapper()"
   ]
  },
  {
   "cell_type": "markdown",
   "metadata": {},
   "source": [
    "## Visualize training loss\n"
   ]
  },
  {
   "cell_type": "code",
   "execution_count": 11,
   "metadata": {},
   "outputs": [
    {
     "data": {
      "image/png": "[encoded data removed]",
      "text/plain": [
       "<Figure size 640x480 with 1 Axes>"
      ]
     },
     "metadata": {},
     "output_type": "display_data"
    }
   ],
   "source": [
    "import seaborn as sns\n",
    "\n",
    "def plot_train_loss(): \n",
    "  losses_float = [float(loss.cpu().detach().numpy()) for loss in LOSSES] \n",
    "  loss_indices = range(len(losses_float))\n",
    "  ax = sns.lineplot(x=loss_indices, y=losses_float)\n",
    "  ax.set(xlabel='Epoch', ylabel='Loss')\n",
    "  \n",
    "plot_train_loss()"
   ]
  },
  {
   "cell_type": "markdown",
   "metadata": {},
   "source": [
    "## Predict solubility on test data and compare with true solubilities"
   ]
  },
  {
   "cell_type": "code",
   "execution_count": 12,
   "metadata": {},
   "outputs": [
    {
     "data": {
      "image/png": "[encoded data removed]",
      "text/plain": [
       "<Figure size 640x480 with 1 Axes>"
      ]
     },
     "metadata": {},
     "output_type": "display_data"
    }
   ],
   "source": [
    "import pandas as pd \n",
    "\n",
    "def predict(model, data): \n",
    "  data_size = len(data)\n",
    "  test_loader = DataLoader(\n",
    "    data[int(data_size * 0.8):], \n",
    "    batch_size=NUM_GRAPHS_PER_BATCH, \n",
    "    shuffle=True\n",
    "  )\n",
    "\n",
    "  # Analyze the results for one batch\n",
    "  test_batch = next(iter(test_loader))\n",
    "\n",
    "  with torch.no_grad():\n",
    "    test_batch.to(DEVICE)\n",
    "    pred, embed = model(test_batch.x.float(), test_batch.edge_index, test_batch.batch) \n",
    "    df = pd.DataFrame()\n",
    "    df[\"y_real\"] = test_batch.y.tolist()\n",
    "    df[\"y_pred\"] = pred.tolist()\n",
    "\n",
    "  df[\"y_real\"] = df[\"y_real\"].apply(lambda row: row[0])\n",
    "  df[\"y_pred\"] = df[\"y_pred\"].apply(lambda row: row[0])\n",
    "\n",
    "  axes = sns.scatterplot(data=df, x=\"y_real\", y=\"y_pred\")\n",
    "  axes.set_xlabel(\"Real Solubility\")\n",
    "  axes.set_ylabel(\"Predicted Solubility\")\n",
    "\n",
    "predict(MODEL, DATA)"
   ]
  }
 ],
 "metadata": {
  "kernelspec": {
   "display_name": "gnn",
   "language": "python",
   "name": "python3"
  },
  "language_info": {
   "codemirror_mode": {
    "name": "ipython",
    "version": 3
   },
   "file_extension": ".py",
   "mimetype": "text/x-python",
   "name": "python",
   "nbconvert_exporter": "python",
   "pygments_lexer": "ipython3",
   "version": "3.11.4"
  },
  "orig_nbformat": 4
 },
 "nbformat": 4,
 "nbformat_minor": 2
}
